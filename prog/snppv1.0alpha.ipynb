{
 "cells": [
  {
   "cell_type": "code",
   "execution_count": 52,
   "metadata": {},
   "outputs": [
    {
     "name": "stdout",
     "output_type": "stream",
     "text": [
      "Populating the interactive namespace from numpy and matplotlib\n"
     ]
    },
    {
     "name": "stderr",
     "output_type": "stream",
     "text": [
      "/share/soft/anaconda3/lib/python3.7/site-packages/IPython/core/magics/pylab.py:160: UserWarning: pylab import has clobbered these variables: ['trace', 'gcd', 'Number', 'add', 'cbrt', 'ifft', 'interactive', 'partition', 'fft', 'plotting', 'sin', 'test', 'vectorize', 'mod', 'array', 'sinh', 'gamma', 'reshape', 'deprecated', 'binomial', 'sqrt', 'tanh', 'power', 'sinc', 'product', 'source', 'erf', 'det', 'prod', 'ones', 'diff', 'log', 'solve', 'cos', 'diag', 'trunc', 'eye', 'seterr', 'floor', 'Polygon', 'flatten', 'take', 'Line2D', 'beta', 'zeros', 'roots', 'nan', 'multinomial', 'transpose', 'cosh', 'lcm', 'tan', 'exp', 're', 'Circle', 'var', 'sign', 'poly', 'conjugate', 'plot', 'invert', 'pi']\n",
      "`%matplotlib` prevents importing * from pylab and numpy\n",
      "  \"\\n`%matplotlib` prevents importing * from pylab and numpy\"\n"
     ]
    }
   ],
   "source": [
    "%pylab inline\n",
    "from astropy.io import fits\n",
    "import numpy as np\n",
    "import matplotlib.pyplot as plt\n",
    "import pylab as pl\n",
    "import matplotlib\n",
    "import pandas as pd\n",
    "from scipy import interpolate\n",
    "from sympy import *\n",
    "import os\n",
    "import io"
   ]
  },
  {
   "cell_type": "markdown",
   "metadata": {},
   "source": [
    "# some basic unchanged parameters"
   ]
  },
  {
   "cell_type": "code",
   "execution_count": 115,
   "metadata": {},
   "outputs": [],
   "source": [
    "d=200.        # diameter of the telescope, in cm unit\n",
    "\n",
    "#if(keyword_set(teld)) then d=teld\n",
    "\n",
    "obscure=0.0  #effective central obscuration, no unit\n",
    "telarea=3.14159/4.0*d*d*(1.0-obscure)  #effective area of the telescope, cm^2\n",
    "darkc=0.017   #dark current, in e/s/pix\n",
    "\n",
    "#if(keyword_set(darkcurrent)) then darkc=darkcurrent\n",
    "\n",
    "rn=4     #read noise, in e/pix\n",
    "\n",
    "#if(keyword_set(readnoise)) then rn=readnoise\n",
    "\n",
    "planckh=6.626    # 10^{-27} erg*s\n",
    "cc=3.0   # speed of light, 10^{17} nm/s\n"
   ]
  },
  {
   "cell_type": "markdown",
   "metadata": {},
   "source": [
    "# load the filters"
   ]
  },
  {
   "cell_type": "code",
   "execution_count": 171,
   "metadata": {},
   "outputs": [
    {
     "name": "stdout",
     "output_type": "stream",
     "text": [
      "../obs/filters/bessell_V.par\n"
     ]
    }
   ],
   "source": [
    "filtersel='bessell_V.par'   #'./sdss_g0.par'\n",
    "#if(keyword_set(filter)) then filtersel=filter\n",
    "filterpath='../obs/filters/'\n",
    "filterfile=filterpath+filtersel\n",
    "print(filterfile)\n",
    "# ;fluxfilter: max=1, min=0, no particular unit\n",
    "i=0\n",
    "with open(filterfile,'r') as fh:\n",
    "    for line in fh:\n",
    "        if line.startswith('#'):\n",
    "            i=i+1\n",
    "            continue\n",
    "band=pd.read_csv(filterfile,sep='\\s+',header=None,skiprows=40)\n",
    "wavefilter=np.array(band[0])\n",
    "fluxfilter=np.array(band[1])\n",
    "wavefilter=wavefilter/10.0  # in nm\n",
    "vmin=wavefilter[0]\n",
    "nw=len(wavefilter)\n",
    "vmax=wavefilter[nw-1]\n",
    "\n",
    "# find the central wavelength, effective wavelength, and FWHM of the given filter\n",
    "\n",
    "filtermid=(vmax-vmin)*0.5  #nm, central wavelength\n",
    "dwave=wavefilter[1:]-wavefilter[:-1]\n",
    "filtereff=np.nansum(dwave*wavefilter[1:]*fluxfilter[1:])/np.nansum(dwave*fluxfilter[1:]) #nm, effective wavelength\n",
    "rmax=np.max(fluxfilter)\n",
    "nnn=np.where(fluxfilter > 0.5*rmax)[0]\n",
    "FWHMmin=wavefilter[nnn[0]]\n",
    "FWHMmax=wavefilter[nnn[-1]]\n",
    "filterwid=FWHMmax-FWHMmin  #nm, FWHM"
   ]
  },
  {
   "cell_type": "markdown",
   "metadata": {},
   "source": [
    "# define wavelength array,\n",
    "- cover the range of 350nm to 1050nm, depend on the spectral resolution wanted. "
   ]
  },
  {
   "cell_type": "code",
   "execution_count": 172,
   "metadata": {
    "scrolled": true
   },
   "outputs": [
    {
     "name": "stderr",
     "output_type": "stream",
     "text": [
      "/share/soft/anaconda3/lib/python3.7/site-packages/ipykernel_launcher.py:12: MatplotlibDeprecationWarning: numpy.arange\n",
      "  if sys.path[0] == '':\n"
     ]
    }
   ],
   "source": [
    "#specr0=2000  ; no unit\n",
    "#if(keyword_set(specr)) then specr0=specr\n",
    "sampling=2.0    #pixels per spectral resolution element ?1D or 2D/linear or area?\n",
    "\n",
    "#if(keyword_set(specsample)) then sampling=specsample\n",
    "\n",
    "#delta_lambda=500.0/specr0/sampling  ; in the same unit as lambda0\n",
    "delta_lambda=0.1755555\n",
    "#if(keyword_set(deltal)) then delta_lambda=deltal # has to be in unit of nm\n",
    "narray=int((1000.0-350.0)/delta_lambda)  \n",
    "#figure out the wavelength array length, from 350nm to 1000nm, spacing at delta_lambda\n",
    "wavearr=350.0+delta_lambda*pl.frange(narray-1)\n",
    "# select out the array of V band filter\n",
    "ii=np.logical_and(wavearr >= vmin, wavearr <= vmax)\n",
    "wavetmp2=wavearr[ii]\n",
    "x=np.interp(wavetmp2,wavefilter,fluxfilter)\n",
    "integratef4=x*wavetmp2"
   ]
  },
  {
   "cell_type": "code",
   "execution_count": 173,
   "metadata": {},
   "outputs": [],
   "source": [
    "def integral(x,y):\n",
    "    nn=len(x)\n",
    "    \n",
    "    dx=x[1:]-x[:-1]\n",
    "    yy=0.5*(y[1:]+y[:-1])\n",
    "  \n",
    "    return np.sum(dx*yy)\n",
    "    "
   ]
  },
  {
   "cell_type": "code",
   "execution_count": 174,
   "metadata": {},
   "outputs": [],
   "source": [
    "integconst=integral(wavetmp2, integratef4) # int(lambda*Rlambda*dlambda)"
   ]
  },
  {
   "cell_type": "code",
   "execution_count": 175,
   "metadata": {},
   "outputs": [
    {
     "data": {
      "text/plain": [
       "44654.97566743437"
      ]
     },
     "execution_count": 175,
     "metadata": {},
     "output_type": "execute_result"
    }
   ],
   "source": [
    "integconst"
   ]
  },
  {
   "cell_type": "markdown",
   "metadata": {},
   "source": [
    "# some less basic parameters, may change, but not often\n",
    "- qsys=0.10\t; throughput of the whole system, should be a function of lambda"
   ]
  },
  {
   "cell_type": "code",
   "execution_count": 176,
   "metadata": {},
   "outputs": [],
   "source": [
    "throughput=pd.read_csv('../obs/IFU_throughput.dat',sep='\\s+',header=None,skiprows=1)\n",
    "lambdaq=np.array(throughput[8])\n",
    "qtot=np.array(throughput[9]) #; throughput of the whole system,\n",
    "#if(not keyword_set(qinput)) then qinput=1.0\n",
    "qinput=1.0\n",
    "qe=0.8 \n",
    "#;assuming the total throughput cannot reach the theory value, 0.3 is the upper limit. \n",
    "qtot[qtot>=0.3]=0.3 \n",
    "q=qtot*qinput #*qe ;qtot of CSST already includes the CCD efficiency \n",
    "fovsp=0.2  # diameter of fiber (or spaxel) in arcsec ?\n",
    "#fov2=3.14159/4.0*(0.2)^2      ; fiber area in (arcsec)^2\n",
    "fov2=(fovsp)**2     #*3.14159/4.0      ; fiber (or spaxel) area in (arcsec)^2\n",
    "#if(keyword_set(fovp)) then fov2=(fovp)^2;*3.14159/4.0\n",
    "#   for slit (point source)\n",
    "#if(keyword_set(slitwidth)) then fov2=1 \n",
    "slitunit=0.074  # arcsec. the length of slit which conresponds to a pixel length on IFU CCD "
   ]
  },
  {
   "cell_type": "markdown",
   "metadata": {},
   "source": [
    "# SKY\n",
    " - define V band sky brightness"
   ]
  },
  {
   "cell_type": "code",
   "execution_count": 177,
   "metadata": {},
   "outputs": [
    {
     "name": "stdout",
     "output_type": "stream",
     "text": [
      "[3.26635242e-05 5.87930256e-04 5.87513766e-04 ... 9.80157011e-04\n",
      " 1.01348412e-03 1.06961878e-03]\n"
     ]
    },
    {
     "data": {
      "text/plain": [
       "'\\n if(keyword_set(skyperpixel)) then begin\\n    ;since the numbers are given by the main survey, our detected Sky electron will be less, so scale a rough factor of 0.9\\n        scaletemp=0.9\\n        ii=where(wavearr ge 255 and wavearr le 400, counta)\\n        fluxskypp[ii]=0.028/counta  \\n        ii=where(wavearr ge 400 and wavearr le 600, countb)\\n        fluxskypp[ii]=0.229/countb  \\n        ii=where(wavearr ge 600 and wavearr le 900, countc)\\n        fluxskypp[ii]=0.301/countc  \\n        ii=where(wavearr ge 900, countd)\\n        fluxskypp[ii]=0.301/countd \\n        fluxskypp=fluxskypp/0.074^2*fov2*scaletemp\\n    end \\n'"
      ]
     },
     "execution_count": 177,
     "metadata": {},
     "output_type": "execute_result"
    }
   ],
   "source": [
    "iskyv0=22.5  # in Johnson V mag/arcsec^2 unit\n",
    "#if(keyword_set(skyv)) then iskyv0=skyv\n",
    "lambdav=filtereff   #in nm\n",
    "\n",
    "#sky brightness corresponding to this sky magnitude\n",
    "iskyv0_jy=3631.0*10**(-iskyv0/2.5+3.0)  # sky flux in V in mJy/arcsec^2 unit\n",
    "iskyv0_nm=iskyv0_jy*3.0/(lambdav/100.0)**2 #sky flux in V in 10^(-13)erg/s/cm^2/nm (/arcsec^2 ?)\n",
    "\n",
    "#readin the ground sky spectrum \n",
    "skybg_50=pd.read_csv('../obs/skybg_50_10.dat',sep='\\s+',header=None,skiprows=14)\n",
    "wavesky=np.array(skybg_50[0])\n",
    "fluxsky1=np.array(skybg_50[1])\n",
    "fluxsky2=fluxsky1/wavesky*1.98 #change the sky flux unit to 10^(-13)erg/s/cm^2/nm/arcsec^2\n",
    "\n",
    "#This fluxsky is in unit of phot/s/nm/arcsec^2/m^2, to convert it to F_lambda/arcsec^2, \n",
    "#need to do fluxsky(phot/s/nm/arcsec^2/m^2)*h(6.625*10^{-27}erg.s)*nu(1/s)*10{-4}(m^2/cm^2)\n",
    "#=fluxsky*c(3.0*10^{17}nm/s)/lambda(nm)*6.6*10{-31} erg/s/cm^2/nm/arcsec^2\n",
    "#=fluxsky/lambda*1.98*10^{-13}erg/s/cm^2/nm/arcsec^2 \n",
    "\n",
    "#find out the normalization of the sky,\n",
    "#normalization=iskyv0_nm*(integrate(bandpass*lambda*dlambda)/integrate(bandpass*lambda*F_sky_lambda*dlambda))\n",
    "ii=np.logical_and(wavesky >= vmin, wavesky <= vmax)\n",
    "wavetmp=wavesky[ii]\n",
    "fluxtmp=fluxsky1[ii]\n",
    "\n",
    "x=np.interp(wavetmp,wavefilter,fluxfilter)\n",
    "vfluxtmp=x*fluxtmp*1.98  #bandpass*lambda*F_sky_lambda(fluxsky2)=bandpass*fluxsky*1.98, x10^(-13)\n",
    "skyintegrate=integral(wavetmp, vfluxtmp)\n",
    "skynorm=iskyv0_nm*integconst/skyintegrate \n",
    "fluxsky3=np.interp(wavearr,wavesky,fluxsky2)\n",
    "fluxsky=fluxsky3*skynorm   # get the sky spectrum in wavearr grid, the unit should now be the same as fluxvega: 10^(-13) erg/s/nm/cm^2  (/arcsec^2 ?)\n",
    "\n",
    "fluxskypp=fluxsky\n",
    "\n",
    "print(fluxskypp)\n",
    "#a second way of estimating the Sky, if know the sky electron number per pixel\n",
    "\n",
    "'''\n",
    " if(keyword_set(skyperpixel)) then begin\n",
    "    ;since the numbers are given by the main survey, our detected Sky electron will be less, so scale a rough factor of 0.9\n",
    "        scaletemp=0.9\n",
    "        ii=where(wavearr ge 255 and wavearr le 400, counta)\n",
    "        fluxskypp[ii]=0.028/counta  \n",
    "        ii=where(wavearr ge 400 and wavearr le 600, countb)\n",
    "        fluxskypp[ii]=0.229/countb  \n",
    "        ii=where(wavearr ge 600 and wavearr le 900, countc)\n",
    "        fluxskypp[ii]=0.301/countc  \n",
    "        ii=where(wavearr ge 900, countd)\n",
    "        fluxskypp[ii]=0.301/countd \n",
    "        fluxskypp=fluxskypp/0.074^2*fov2*scaletemp\n",
    "    end \n",
    "'''"
   ]
  },
  {
   "cell_type": "markdown",
   "metadata": {},
   "source": [
    "# define basic target brightness, parameters constantly change"
   ]
  },
  {
   "cell_type": "code",
   "execution_count": 178,
   "metadata": {},
   "outputs": [],
   "source": [
    "itarget=22. # in Johnson V mag/arcsec^2 unit\n",
    "#if(keyword_set(targetmag)) then itarget=targetmag\n",
    "itarget_jy=3631.0*10**(-itarget/2.5+3.0)  # target flux in V in mJy/arcsec^2 unit\n",
    "itarget_nm=itarget_jy*3.0/(lambdav/100.0)**2 #target flux in V in 10^(-13)erg/s/cm^2/nm (/arcsec^2 ?)\n",
    "\n",
    "#readin the galaxy spectrum\n",
    "'''\n",
    "    ; readcol, '../obs/allgalaxy.dat', wavegal, eflux, s0f, saf, sbf, scf, /silent\n",
    "    ; wavegal=wavegal*1000.0\n",
    "    ; spectype0=4\t;default use Sb galaxy template spectrum\n",
    "    ; if(keyword_set(spectype)) then spectype0=spectype  ;unless specified\n",
    "    ; if(spectype0 eq 1) then galflux1=eflux\n",
    "    ; if(spectype0 eq 2) then galflux1=s0f\n",
    "    ; if(spectype0 eq 3) then galflux1=saf\n",
    "    ; if(spectype0 eq 4) then galflux1=sbf\n",
    "    ; if(spectype0 eq 5) then galflux1=scf\n",
    "'''\n",
    "\n",
    "tplfile='../obs/SFgal_tpl/SFgal_texp_FeH0_tau5_Ew10.fits'\n",
    "# if(keyword_set(galtpl)) then tplfile='../obs/SFgal_tpl/'+galtpl\n",
    "sfgal=fits.open(tplfile)\n",
    "wavegal=sfgal[1].data['wave']/10. #change A to nm\n",
    "galflux2=sfgal[1].data['flux']\n",
    "galflux1=np.interp(wavearr,wavegal,galflux2)\n",
    "\n",
    "#;normalize the galaxy spectrum to the V band magnitude specified.\n",
    "ii=np.logical_and(wavegal >= vmin, wavegal <= vmax)\n",
    "wavetmp=wavegal[ii]\n",
    "fluxtmp=galflux2[ii]\n",
    "x=np.interp(wavetmp,wavefilter,fluxfilter)\n",
    "vfluxtmp=x*wavetmp*fluxtmp #bandpass*lambda*F_gal_lambda\n",
    "galintegrate=integral(wavetmp,vfluxtmp)\n",
    "galnorm=itarget_nm*integconst/galintegrate\n",
    "galflux=galnorm*galflux1   # the unit should now be in 10^(-13)erg/s/nm/cm^2 (/arcsec^2 ?)"
   ]
  },
  {
   "cell_type": "code",
   "execution_count": 197,
   "metadata": {},
   "outputs": [
    {
     "name": "stdout",
     "output_type": "stream",
     "text": [
      "Filename: ../obs/SFgal_tpl/SFgal_texp_FeH0_tau5_Ew10.fits\n",
      "No.    Name      Ver    Type      Cards   Dimensions   Format\n",
      "  0  PRIMARY       1 PrimaryHDU       4   ()      \n",
      "  1                1 BinTableHDU     16   5138R x 4C   ['D', 'D', 'D', 'D']   \n"
     ]
    }
   ],
   "source": [
    "sfgal.info()"
   ]
  },
  {
   "cell_type": "code",
   "execution_count": 198,
   "metadata": {},
   "outputs": [
    {
     "data": {
      "text/plain": [
       "ColDefs(\n",
       "    name = 'wave'; format = 'D'\n",
       "    name = 'flux'; format = 'D'\n",
       "    name = 'stellar'; format = 'D'\n",
       "    name = 'gas_emission'; format = 'D'\n",
       ")"
      ]
     },
     "execution_count": 198,
     "metadata": {},
     "output_type": "execute_result"
    }
   ],
   "source": [
    "sfgal[1].columns"
   ]
  },
  {
   "cell_type": "code",
   "execution_count": 200,
   "metadata": {},
   "outputs": [
    {
     "data": {
      "text/plain": [
       "XTENSION= 'BINTABLE'           / binary table extension                         \n",
       "BITPIX  =                    8 / array data type                                \n",
       "NAXIS   =                    2 / number of array dimensions                     \n",
       "NAXIS1  =                   32 / length of dimension 1                          \n",
       "NAXIS2  =                 5138 / length of dimension 2                          \n",
       "PCOUNT  =                    0 / number of group parameters                     \n",
       "GCOUNT  =                    1 / number of groups                               \n",
       "TFIELDS =                    4 / number of table fields                         \n",
       "TTYPE1  = 'wave    '                                                            \n",
       "TFORM1  = 'D       '                                                            \n",
       "TTYPE2  = 'flux    '                                                            \n",
       "TFORM2  = 'D       '                                                            \n",
       "TTYPE3  = 'stellar '                                                            \n",
       "TFORM3  = 'D       '                                                            \n",
       "TTYPE4  = 'gas_emission'                                                        \n",
       "TFORM4  = 'D       '                                                            "
      ]
     },
     "execution_count": 200,
     "metadata": {},
     "output_type": "execute_result"
    }
   ],
   "source": [
    "sfgal[1].header"
   ]
  },
  {
   "cell_type": "markdown",
   "metadata": {},
   "source": [
    "# define observation information, parameters constantly change"
   ]
  },
  {
   "cell_type": "code",
   "execution_count": 179,
   "metadata": {},
   "outputs": [],
   "source": [
    "obst=300.0  # in seconds, single integration time\n",
    "#if(keyword_set(obstime)) then obst=obstime\n",
    "repn=1.0   # repeating time\n",
    "#if(keyword_set(repeatnum)) then repn=repeatnum\n",
    "npixw=3.0\n",
    "#if(keyword_set(npixel_width)) then npixw=npixel_width\n",
    "#   sky of slit area (slitwidth*npixw*slitlength) will go into the CCD\n",
    "#if(keyword_set(slitwidth)) then fluxskypp=fluxskypp*slitwidth*npixw*slitunit  \n",
    "    \n",
    "expf2=np.zeros(narray)\n",
    "expfemi=np.zeros(narray)\n",
    "snarray=np.zeros(narray)\n",
    "mockgal=np.zeros(narray)\n",
    "tmp=np.zeros(narray)\n",
    "lista=np.zeros(narray*10).reshape(narray,10)"
   ]
  },
  {
   "cell_type": "code",
   "execution_count": 180,
   "metadata": {},
   "outputs": [],
   "source": [
    "for i in range(narray):\n",
    "    lambda0=wavearr[i]\n",
    "    qlambda=np.interp(lambda0,lambdaq,q)\n",
    "    hv=planckh*cc/lambda0 #;10^{-10}erg\n",
    "    delta_hz=cc*delta_lambda/lambda0/lambda0*sampling #;10^17 1/s\n",
    "    \n",
    "    #now that many fluxes are in 10^(-13)erg/s/nm/cm^2, to convert it to Jy, need to multiple: \n",
    "    #lambda0^2/c(in nm)=lambda0^2(nm)/(3.*10^(17))*10^(-13)erg/s/Hz/cm^2\n",
    "    #=lambda^2(nm)*3.33*10^(-31)erg/s/Hz/cm^2=lambda^2(nm)*3.33*10^(-8)Jy\n",
    "    \n",
    "    #find out sky value at lambda0    \n",
    "    #calculate n_sky/pixel\n",
    "    isky=fluxsky[i]*lambda0**2*0.0333*fov2   #in uJy/spaxel unit\n",
    "    iskyall=isky*telarea/1000.0   #in 10-26 erg/s/Hz /spaxel\n",
    "    fsky=qlambda*iskyall*delta_hz   #10^{-9} erg/s /spaxel\n",
    "    nsky=fsky/hv*10.0   #in unit of #e/s /spaxel\n",
    "    \n",
    "    '''\n",
    "    if(keyword_set(skyperpixel)) then begin\n",
    "        nsky=fluxskypp[i]*sampling  ; #e/s in npixw*sampling pixels \n",
    "    endif\n",
    "    ;print, \"Sky electron counts\", nsky, nsky0, fluxskypp[i]\n",
    "    '''\n",
    "    \n",
    "    #calculate n_source/pixel\n",
    "    isource=galflux[i]*lambda0**2*0.0333*fov2   #in uJy/spaxel unit\n",
    "    isall=isource*telarea/1000.0   #in 10-26 erg/s/Hz /spaxel\n",
    "    fs=qlambda*isall*delta_hz   #10^{-9} erg/s /spaxel\n",
    "    ns=fs/hv*10.0   #in unit of #e/s /spaxel\n",
    "    #print, \"Source electron counts\", ns\n",
    "    \n",
    "    darkn=(darkc*repn*obst*npixw*sampling)\n",
    "    rnn2=rn**2*(repn*npixw*sampling)\n",
    "    sourcenn=(ns*repn*obst)\n",
    "    skynn=(nsky*repn*obst)\n",
    "    tmp[i]=skynn\n",
    "    \n",
    "    #nn1=sqrt(2.0*rnn^2+2.0*darkn^2+sourcenn^2+2.0*skynn^2)\n",
    "    #nn1=sqrt(rnn^2+darkn^2+sourcenn^2+skynn^2)\n",
    "    nn1=np.sqrt(rnn2+darkn+skynn+sourcenn)  #total noise\n",
    "    sn1=repn*ns*obst/nn1  #S/N\n",
    "    snarray[i]=sn1\n",
    "    #nn=sqrt(2.0*rnn^2+2.0*darkn^2+2.0*skynn^2)\n",
    "    nn=np.sqrt(rnn2+darkn+skynn)  #system noise\n",
    "    #print, \"total noise, system noise, sn, readnoise, dark, source, sky\", nn1, nn, sn1, rnn, darkn, sourcenn, skynn \n",
    "    \n",
    "    #set the detection limit \n",
    "    detlimit=1.0\n",
    "    #if(keyword_set(snlimit)) then detlimit=snlimit\n",
    "    #N_{source}/sqrt(N_{source}+nn^2)=detlimit, ==m\n",
    "    #N_{source}^2-m^2*N_{source}-m^2*nn^2=0 (solve the equation)\n",
    "    #N_{source}=(m^2+sqrt(m^4+4m^2*nn^2))/2.0\n",
    "    nntmp=detlimit**2+np.sqrt(detlimit**4+4.0*detlimit**2*nn**2)\n",
    "    nntmp=nntmp/2.0\n",
    "\n",
    "    #calculate detection limit in uJy and mag\n",
    "    \n",
    "    fnn=nntmp\n",
    "    f1=fnn/obst/repn    #in e/s\n",
    "    f2=f1*hv       #in 10^{-10} erg/s\n",
    "    f3=f2/delta_lambda #in 10^{-10} erg/s/nm\n",
    "    f1=f3/telarea #in 10^{-10} erg/s/nm/cm^2\n",
    "    f2=f1/qlambda    #in 10^{-10} erg/s/nm/cm^2\n",
    "    expf2[i]=f2/fov2*100000.   # in 10^{-15} erg/s/nm/cm^2/arcsec^2\n",
    "    #expfemi[i]=expf2[i]*delta_lambda*sampling   # in 10^{-15} erg/s/cm^2/arcsec^2, the above multiplied by the spectral resolution\n",
    "    #print, \"detection limit is\", f2,\"microJy/arcsec^2\"\n",
    "    #print, \"detection limit is\", magf2, \"AB mag / arcsec^2\"\n",
    "    mockgal[i]=galflux[i]+galflux[i]/snarray[i]*np.random.randn(1,1)[0][0]  #in 10^{-13} erg/s/nm/cm^2\n",
    "\n",
    "    lista[i,:]=[lambda0, sn1, galflux[i], nn1,\\\n",
    "    np.sqrt(sourcenn), nn, np.sqrt(rnn2),np.sqrt(darkn), \\\n",
    "    np.sqrt(skynn), mockgal[i]]\n",
    "    "
   ]
  },
  {
   "cell_type": "code",
   "execution_count": 181,
   "metadata": {},
   "outputs": [
    {
     "data": {
      "text/plain": [
       "\"\\n    ;mockgal=galflux+galflux/snarray*randomn(seed,narray)\\n    ; plot,wavearr,galflux,xrange=[350,1000],xs=1,xtitle='lambda (nm)',ytitle='galaxy flux'\\n    ; oplot,wavearr,mockgal,color=250\\n    ; oplot,wavearr,galflux,thick=3\\n    ; label=strcompress(string(obst))+'s *'+strcompress(string(repn))+' times'\\n    ; xyouts,800,max(galflux),label,charsize=2\\n    ; plot,wavearr,expf2*0.01,xrange=[350,1000],xs=1,xtitle='lambda (nm)',ytitle='expected galaxy flux'\\n    ; oplot,wavearr,galflux,color=250\\n    \\n    ; plot,wavearr,fluxsky,xrange=[350,1000],xs=1,xtitle='lambda (nm)',ytitle='sky flux'\\n    ; plot,wavearr,tmp,xrange=[350,1000],xs=1,xtitle='lambda (nm)',ytitle='#photon'\\n    \\n    \\n    ; ii=where(wavearr ge vmin and wavearr le vmax)\\n    ; wavetmp=wavearr(ii)\\n    ; fluxtmp=expf2(ii)/100000.  ;10^{-10} erg/s/cm^2/arcsec^2\\n    ; x=interpol(fluxfilter, wavefilter, wavetmp)\\n    ; vfluxtmp=x*wavetmp*fluxtmp  ;bandpass*lambda*F_gal_lambda\\n    ; gexpintegrate=integral(wavetmp, vfluxtmp)\\n    ; magf2=-2.5*(alog10((gexpintegrate*(lambdav/100.0)^2)/(integconst*3631.0*3.0)))\\n    ; print,'magf2=',magf2\\n    ; plot,wavetmp,fluxtmp,xrange=[350,1000],xs=1,xtitle='lambda',ytitle='expected galaxy flux'\\n\""
      ]
     },
     "execution_count": 181,
     "metadata": {},
     "output_type": "execute_result"
    }
   ],
   "source": [
    "'''\n",
    "    ;mockgal=galflux+galflux/snarray*randomn(seed,narray)\n",
    "    ; plot,wavearr,galflux,xrange=[350,1000],xs=1,xtitle='lambda (nm)',ytitle='galaxy flux'\n",
    "    ; oplot,wavearr,mockgal,color=250\n",
    "    ; oplot,wavearr,galflux,thick=3\n",
    "    ; label=strcompress(string(obst))+'s *'+strcompress(string(repn))+' times'\n",
    "    ; xyouts,800,max(galflux),label,charsize=2\n",
    "    ; plot,wavearr,expf2*0.01,xrange=[350,1000],xs=1,xtitle='lambda (nm)',ytitle='expected galaxy flux'\n",
    "    ; oplot,wavearr,galflux,color=250\n",
    "    \n",
    "    ; plot,wavearr,fluxsky,xrange=[350,1000],xs=1,xtitle='lambda (nm)',ytitle='sky flux'\n",
    "    ; plot,wavearr,tmp,xrange=[350,1000],xs=1,xtitle='lambda (nm)',ytitle='#photon'\n",
    "    \n",
    "    \n",
    "    ; ii=where(wavearr ge vmin and wavearr le vmax)\n",
    "    ; wavetmp=wavearr(ii)\n",
    "    ; fluxtmp=expf2(ii)/100000.  ;10^{-10} erg/s/cm^2/arcsec^2\n",
    "    ; x=interpol(fluxfilter, wavefilter, wavetmp)\n",
    "    ; vfluxtmp=x*wavetmp*fluxtmp  ;bandpass*lambda*F_gal_lambda\n",
    "    ; gexpintegrate=integral(wavetmp, vfluxtmp)\n",
    "    ; magf2=-2.5*(alog10((gexpintegrate*(lambdav/100.0)^2)/(integconst*3631.0*3.0)))\n",
    "    ; print,'magf2=',magf2\n",
    "    ; plot,wavetmp,fluxtmp,xrange=[350,1000],xs=1,xtitle='lambda',ytitle='expected galaxy flux'\n",
    "'''"
   ]
  },
  {
   "cell_type": "code",
   "execution_count": 182,
   "metadata": {},
   "outputs": [
    {
     "name": "stdout",
     "output_type": "stream",
     "text": [
      "[37.63560326]\n",
      "37.635603262237744\n",
      "0.05607035207145872\n"
     ]
    }
   ],
   "source": [
    "ii=np.logical_and(wavearr >= FWHMmin , wavearr <= FWHMmax)\n",
    "wavetmp=wavearr[ii]\n",
    "if len(snarray[ii]) % 2 ==0:\n",
    "    snm=sorted(list(snarray[ii]))[int(0.5*len(snarray[ii]))]\n",
    "else:\n",
    "    snm=np.median(snarray[ii])    #the median SN of FWHM range to acchieve the sn limit\n",
    "im=np.where(snarray[ii] == snm)[0]\n",
    "print(snarra)\n",
    "fact=np.reshape(expf2[ii][im]*0.01/galflux[ii][im],1)\n",
    "print(fact)\n",
    "fact=fact[0]\n",
    "print(fact)\n",
    "limitmag=-2.5*np.log10(fact)+itarget  \n",
    "\n",
    "#print,limitmag\n",
    "#oplot,wavetmp, fluxtmp, color=250\n",
    "snmean=np.median(snarray)\n",
    "print(snmean)"
   ]
  },
  {
   "cell_type": "code",
   "execution_count": 183,
   "metadata": {},
   "outputs": [
    {
     "name": "stdout",
     "output_type": "stream",
     "text": [
      "0.008009696733561928\n"
     ]
    }
   ],
   "source": [
    "z=0.0\n",
    "#if(keyword_set(redshift)) then z=redshift\n",
    "waveha=656.3*(1.0+z)\n",
    "ii=np.logical_and(wavearr >= (waveha-0.5) , wavearr < (waveha+0.5))  #1nm ,10A\n",
    "nii=len(np.where(ii==1)[0])\n",
    "ii_1=np.logical_and(wavearr >= (waveha-10) , wavearr <= (waveha-5))\n",
    "ii_2=np.logical_and(wavearr <= (waveha+10) , wavearr >= (waveha+5))\n",
    "icont=np.logical_or(ii_1==1,ii_2==1)\n",
    "\n",
    "contrms=np.sqrt(np.sum(mockgal[icont]**2)/len(mockgal[icont]))\n",
    "print(contrms)\n",
    "h=3*contrms*np.sqrt(nii) # hight>3 con\n",
    "w=1.  # width of 10A\n",
    "limitemif=np.sqrt(2*np.pi)*h*w  #h=3*cont, w=10A \n",
    "#print,limtmag,limitemif"
   ]
  },
  {
   "cell_type": "code",
   "execution_count": 184,
   "metadata": {},
   "outputs": [
    {
     "name": "stdout",
     "output_type": "stream",
     "text": [
      "The END!\n"
     ]
    }
   ],
   "source": [
    "print('The END!')"
   ]
  },
  {
   "cell_type": "code",
   "execution_count": 196,
   "metadata": {},
   "outputs": [
    {
     "name": "stdout",
     "output_type": "stream",
     "text": [
      "d: 200.0\n",
      "darkc: 0.017\n",
      "rn: 4\n",
      "../obs/filters/bessell_V.par\n",
      "sampling: 2.0\n",
      "delta_lambda: 0.1755555\n",
      "qinput: 1.0\n",
      "fov2: 0.04000000000000001\n",
      "iskyv0: 22.5\n",
      "fluxskypp: [3.26635242e-05 5.87930256e-04 5.87513766e-04 ... 9.80157011e-04\n",
      " 1.01348412e-03 1.06961878e-03]\n",
      "itarget: 22.0\n",
      "tplfile: ../obs/SFgal_tpl/SFgal_texp_FeH0_tau5_Ew10.fits\n",
      "obst: 300.0\n",
      "repn: 1.0\n",
      "npixw: 3.0\n",
      "fluxskypp: [3.26635242e-05 5.87930256e-04 5.87513766e-04 ... 9.80157011e-04\n",
      " 1.01348412e-03 1.06961878e-03]\n",
      "z: 0.0\n",
      "44654.97566743437\n"
     ]
    }
   ],
   "source": [
    "print('d:', d)\n",
    "print('darkc:', darkc)\n",
    "print('rn:', rn)\n",
    "print(filterfile)\n",
    "print('sampling:', sampling)\n",
    "print('delta_lambda:', delta_lambda)\n",
    "print('qinput:', qinput)\n",
    "print('fov2:', fov2)\n",
    "print('iskyv0:', iskyv0)\n",
    "print('fluxskypp:', fluxskypp)\n",
    "print('itarget:', itarget)\n",
    "print('tplfile:',tplfile)\n",
    "print('obst:',obst)\n",
    "print('repn:',repn)\n",
    "print('npixw:',npixw)\n",
    "print('fluxskypp:',fluxskypp)\n",
    "print('z:',z)\n",
    "print(integconst)"
   ]
  },
  {
   "cell_type": "markdown",
   "metadata": {},
   "source": [
    "# write dat"
   ]
  },
  {
   "cell_type": "code",
   "execution_count": 393,
   "metadata": {},
   "outputs": [],
   "source": [
    "iddat=np.array(list(range(10)))\n",
    "namedat=np.array(['lambda','S/N','tar_flux','tot_noise','sc_noise', \\\n",
    "       'sys_noise', 'readnoise','dark_noise', 'sky_noise', 'mockgal'])\n",
    "unit=np.array(['nm', ' ','1e-13 erg/s/cm2/nm',\\\n",
    "       '#e','#e','#e','#e','#e','#e', '1e-13 erg/s/cm2/nm'])"
   ]
  },
  {
   "cell_type": "code",
   "execution_count": 406,
   "metadata": {},
   "outputs": [
    {
     "data": {
      "text/plain": [
       "[name = 'lambda'; format = 'k',\n",
       " name = 'S/N'; format = 'k',\n",
       " name = 'tar_flux'; format = 'k',\n",
       " name = 'tot_noise'; format = 'k',\n",
       " name = 'sc_noise'; format = 'k',\n",
       " name = 'sys_noise'; format = 'k',\n",
       " name = 'readnoise'; format = 'k',\n",
       " name = 'dark_noise'; format = 'k',\n",
       " name = 'sky_noise'; format = 'k',\n",
       " name = 'mockgal'; format = 'k']"
      ]
     },
     "execution_count": 406,
     "metadata": {},
     "output_type": "execute_result"
    }
   ],
   "source": [
    "[fits.Column(name=namedat[i],array=np.array(lista[:,i]),format='k') for i in range(len(namedat))]"
   ]
  },
  {
   "cell_type": "code",
   "execution_count": 422,
   "metadata": {},
   "outputs": [],
   "source": [
    "hdr=fits.Header()\n",
    "for i in range(len(namedat)):\n",
    "    hdr[str(i)]=unit[i]\n",
    "hun1=fits.PrimaryHDU(header=hdr)\n",
    "\n",
    "hun2=fits.BinTableHDU.from_columns([fits.Column(name=namedat[i],array=np.array(lista[:,i]),format='1E') for i in range(len(namedat))])\n",
    "hdulist = fits.HDUList([hun1,hun2])\n",
    "hdulist.writeto('noise.fits')"
   ]
  },
  {
   "cell_type": "markdown",
   "metadata": {},
   "source": [
    "# read fits"
   ]
  },
  {
   "cell_type": "code",
   "execution_count": 30,
   "metadata": {},
   "outputs": [],
   "source": [
    "aaa=fits.open('noise.fits')"
   ]
  },
  {
   "cell_type": "code",
   "execution_count": 430,
   "metadata": {},
   "outputs": [
    {
     "name": "stdout",
     "output_type": "stream",
     "text": [
      "Filename: noise.fits\n",
      "No.    Name      Ver    Type      Cards   Dimensions   Format\n",
      "  0  PRIMARY       1 PrimaryHDU      14   ()      \n",
      "  1                1 BinTableHDU     28   3702R x 10C   [1E, 1E, 1E, 1E, 1E, 1E, 1E, 1E, 1E, 1E]   \n"
     ]
    }
   ],
   "source": [
    "aaa.info()"
   ]
  },
  {
   "cell_type": "code",
   "execution_count": 431,
   "metadata": {},
   "outputs": [
    {
     "data": {
      "text/plain": [
       "SIMPLE  =                    T / conforms to FITS standard                      \n",
       "BITPIX  =                    8 / array data type                                \n",
       "NAXIS   =                    0 / number of array dimensions                     \n",
       "EXTEND  =                    T                                                  \n",
       "0       = 'nm      '                                                            \n",
       "1       = ''                                                                    \n",
       "2       = '1e-13 erg/s/cm2/nm'                                                  \n",
       "3       = '#e      '                                                            \n",
       "4       = '#e      '                                                            \n",
       "5       = '#e      '                                                            \n",
       "6       = '#e      '                                                            \n",
       "7       = '#e      '                                                            \n",
       "8       = '#e      '                                                            \n",
       "9       = '1e-13 erg/s/cm2/nm'                                                  "
      ]
     },
     "execution_count": 431,
     "metadata": {},
     "output_type": "execute_result"
    }
   ],
   "source": [
    "aaa[0].header"
   ]
  },
  {
   "cell_type": "code",
   "execution_count": 432,
   "metadata": {},
   "outputs": [
    {
     "data": {
      "text/plain": [
       "FITS_rec([(350.     , 0.00696866, 0.00048873, 11.255384 , 0.2800625 , 11.2519   , 9.797959, 5.531727, 0.07240252, -0.02861151),\n",
       "          (350.17557, 0.00651509, 0.00045201, 11.259164 , 0.27084038, 11.255906 , 9.797959, 5.531727, 0.30888805,  0.04023228),\n",
       "          (350.3511 , 0.00598966, 0.000411  , 11.2589445, 0.25968695, 11.25595  , 9.797959, 5.531727, 0.31048384,  0.05475378),\n",
       "          ...,\n",
       "          (999.3798 , 0.0174631 , 0.00034563, 11.285209 , 0.44393095, 11.276474 , 9.797959, 5.531727, 0.7475748 ,  0.01462729),\n",
       "          (999.55536, 0.01739325, 0.00034563, 11.285915 , 0.44305614, 11.277216 , 9.797959, 5.531727, 0.75868005,  0.00467519),\n",
       "          (999.7309 , 0.01732252, 0.00034563, 11.287188 , 0.44217926, 11.2785225, 9.797959, 5.531727, 0.7778652 ,  0.02839942)],\n",
       "         dtype=(numpy.record, [('lambda', '>f4'), ('S/N', '>f4'), ('tar_flux', '>f4'), ('tot_noise', '>f4'), ('sc_noise', '>f4'), ('sys_noise', '>f4'), ('readnoise', '>f4'), ('dark_noise', '>f4'), ('sky_noise', '>f4'), ('mockgal', '>f4')]))"
      ]
     },
     "execution_count": 432,
     "metadata": {},
     "output_type": "execute_result"
    }
   ],
   "source": [
    "aaa[1].data"
   ]
  },
  {
   "cell_type": "code",
   "execution_count": 19,
   "metadata": {},
   "outputs": [],
   "source": [
    "# if this file has existed, I need remove it\n",
    "if(os.path.exists('../results/noise_'+str(filtersel)+'.fits'))==1:\n",
    "    os.remove('../results/noise_'+str(filtersel)+'.fits')"
   ]
  },
  {
   "cell_type": "code",
   "execution_count": 201,
   "metadata": {},
   "outputs": [],
   "source": [
    "bbb=fits.open('../results/noise_bessell_V.par_SFgal_texp_FeH0_tau5_Ew10.fits.fits')"
   ]
  },
  {
   "cell_type": "code",
   "execution_count": 202,
   "metadata": {},
   "outputs": [
    {
     "name": "stdout",
     "output_type": "stream",
     "text": [
      "Filename: ../results/noise_bessell_V.par_SFgal_texp_FeH0_tau5_Ew10.fits.fits\n",
      "No.    Name      Ver    Type      Cards   Dimensions   Format\n",
      "  0  PRIMARY       1 PrimaryHDU      14   ()      \n",
      "  1                1 BinTableHDU     28   3702R x 10C   [1E, 1E, 1E, 1E, 1E, 1E, 1E, 1E, 1E, 1E]   \n"
     ]
    }
   ],
   "source": [
    "bbb.info()"
   ]
  },
  {
   "cell_type": "code",
   "execution_count": 203,
   "metadata": {},
   "outputs": [
    {
     "data": {
      "text/plain": [
       "SIMPLE  =                    T / conforms to FITS standard                      \n",
       "BITPIX  =                    8 / array data type                                \n",
       "NAXIS   =                    0 / number of array dimensions                     \n",
       "EXTEND  =                    T                                                  \n",
       "0       = 'nm      '                                                            \n",
       "1       = ''                                                                    \n",
       "2       = '1e-13 erg/s/cm2/nm'                                                  \n",
       "3       = '#e      '                                                            \n",
       "4       = '#e      '                                                            \n",
       "5       = '#e      '                                                            \n",
       "6       = '#e      '                                                            \n",
       "7       = '#e      '                                                            \n",
       "8       = '#e      '                                                            \n",
       "9       = '1e-13 erg/s/cm2/nm'                                                  "
      ]
     },
     "execution_count": 203,
     "metadata": {},
     "output_type": "execute_result"
    }
   ],
   "source": [
    "bbb[0].header"
   ]
  },
  {
   "cell_type": "code",
   "execution_count": 204,
   "metadata": {},
   "outputs": [
    {
     "data": {
      "text/plain": [
       "ColDefs(\n",
       "    name = 'lambda'; format = '1E'\n",
       "    name = 'S/N'; format = '1E'\n",
       "    name = 'tar_flux'; format = '1E'\n",
       "    name = 'tot_noise'; format = '1E'\n",
       "    name = 'sc_noise'; format = '1E'\n",
       "    name = 'sys_noise'; format = '1E'\n",
       "    name = 'readnoise'; format = '1E'\n",
       "    name = 'dark_noise'; format = '1E'\n",
       "    name = 'sky_noise'; format = '1E'\n",
       "    name = 'mockgal'; format = '1E'\n",
       ")"
      ]
     },
     "execution_count": 204,
     "metadata": {},
     "output_type": "execute_result"
    }
   ],
   "source": [
    "bbb[1].columns"
   ]
  },
  {
   "cell_type": "code",
   "execution_count": 205,
   "metadata": {},
   "outputs": [
    {
     "data": {
      "text/plain": [
       "[<matplotlib.lines.Line2D at 0x7ff44f8485c0>]"
      ]
     },
     "execution_count": 205,
     "metadata": {},
     "output_type": "execute_result"
    },
    {
     "data": {
      "image/png": "[encoded data removed]",
      "text/plain": [
       "<Figure size 432x288 with 1 Axes>"
      ]
     },
     "metadata": {
      "needs_background": "light"
     },
     "output_type": "display_data"
    }
   ],
   "source": [
    "plt.plot(bbb[1].data['lambda'],bbb[1].data['mockgal'])"
   ]
  },
  {
   "cell_type": "code",
   "execution_count": 208,
   "metadata": {},
   "outputs": [
    {
     "data": {
      "text/plain": [
       "[<matplotlib.lines.Line2D at 0x7ff44f400c18>]"
      ]
     },
     "execution_count": 208,
     "metadata": {},
     "output_type": "execute_result"
    },
    {
     "data": {
      "image/png": "[encoded data removed]",
      "text/plain": [
       "<Figure size 432x288 with 1 Axes>"
      ]
     },
     "metadata": {
      "needs_background": "light"
     },
     "output_type": "display_data"
    }
   ],
   "source": [
    "plt.plot(wavearr,galflux)\n",
    "#plt.plot(wavearr,mockgal)"
   ]
  },
  {
   "cell_type": "code",
   "execution_count": null,
   "metadata": {},
   "outputs": [],
   "source": []
  }
 ],
 "metadata": {
  "kernelspec": {
   "display_name": "anaconda3-python",
   "language": "python",
   "name": "anaconda3-python"
  },
  "language_info": {
   "codemirror_mode": {
    "name": "ipython",
    "version": 3
   },
   "file_extension": ".py",
   "mimetype": "text/x-python",
   "name": "python",
   "nbconvert_exporter": "python",
   "pygments_lexer": "ipython3",
   "version": "3.7.1"
  }
 },
 "nbformat": 4,
 "nbformat_minor": 2
}
